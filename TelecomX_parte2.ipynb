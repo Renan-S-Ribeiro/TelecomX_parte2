{
  "nbformat": 4,
  "nbformat_minor": 0,
  "metadata": {
    "colab": {
      "provenance": [],
      "collapsed_sections": [
        "WNsxhIKO3FgP",
        "Pq-NvsW46rRx",
        "bcAtajPq8Lfc",
        "qa5vBAnsADBS",
        "eGYTiYfcApIJ",
        "GaWTJtIZGKAv",
        "Wktt9narGjWn",
        "04IOAIjjJHf_"
      ],
      "toc_visible": true
    },
    "kernelspec": {
      "name": "python3",
      "display_name": "Python 3"
    },
    "language_info": {
      "name": "python"
    }
  },
  "cells": [
    {
      "cell_type": "markdown",
      "source": [
        "# 🛠️ Preparação dos Dados"
      ],
      "metadata": {
        "id": "xwsXys2060de"
      }
    },
    {
      "cell_type": "markdown",
      "source": [
        "## Importação dos dados"
      ],
      "metadata": {
        "id": "WNsxhIKO3FgP"
      }
    },
    {
      "cell_type": "markdown",
      "source": [
        "Aqui vamos importar os dados tratados no último challenge Telecom X, onde esses dados brutos foram tratados e preparados e exportados para essa análise."
      ],
      "metadata": {
        "id": "M_DdHuSj3LPR"
      }
    },
    {
      "cell_type": "code",
      "execution_count": 36,
      "metadata": {
        "id": "zFQ3WcSK25fn"
      },
      "outputs": [],
      "source": [
        "# Importando biblioteca Pandas\n",
        "import pandas as pd"
      ]
    },
    {
      "cell_type": "code",
      "source": [
        "# Importando dados salvos no repositório do github\n",
        "# URL do CSV tratado\n",
        "url = \"https://raw.githubusercontent.com/Renan-S-Ribeiro/TelecomX_parte2/refs/heads/main/dados_tratados.csv\"\n",
        "\n",
        "# Lendo e adicionando em um dataframe\n",
        "df = pd.read_csv(url)\n",
        "\n",
        "\n",
        "# Visualizando as primeiras linhas\n",
        "print(df.shape)   # tamanho do dataset\n",
        "df.head()"
      ],
      "metadata": {
        "colab": {
          "base_uri": "https://localhost:8080/",
          "height": 0
        },
        "id": "zF-hkjdY4mMJ",
        "outputId": "897b4923-54fb-40d2-a496-10ec2f42024e"
      },
      "execution_count": 37,
      "outputs": [
        {
          "output_type": "stream",
          "name": "stdout",
          "text": [
            "(7043, 22)\n"
          ]
        },
        {
          "output_type": "execute_result",
          "data": {
            "text/plain": [
              "   customerID Churn  gender  SeniorCitizen Partner Dependents  tenure  \\\n",
              "0  0002-ORFBO    No  Female              0     Yes        Yes       9   \n",
              "1  0003-MKNFE    No    Male              0      No         No       9   \n",
              "2  0004-TLHLJ   Yes    Male              0      No         No       4   \n",
              "3  0011-IGKFF   Yes    Male              1     Yes         No      13   \n",
              "4  0013-EXCHZ   Yes  Female              1     Yes         No       3   \n",
              "\n",
              "  PhoneService MultipleLines InternetService  ... DeviceProtection  \\\n",
              "0          Yes            No             DSL  ...               No   \n",
              "1          Yes           Yes             DSL  ...               No   \n",
              "2          Yes            No     Fiber optic  ...              Yes   \n",
              "3          Yes            No     Fiber optic  ...              Yes   \n",
              "4          Yes            No     Fiber optic  ...               No   \n",
              "\n",
              "  TechSupport StreamingTV StreamingMovies        Contract PaperlessBilling  \\\n",
              "0         Yes         Yes              No        One year              Yes   \n",
              "1          No          No             Yes  Month-to-month               No   \n",
              "2          No          No              No  Month-to-month              Yes   \n",
              "3          No         Yes             Yes  Month-to-month              Yes   \n",
              "4         Yes         Yes              No  Month-to-month              Yes   \n",
              "\n",
              "      PaymentMethod Charges.Monthly Charges.Total  Contas_Diarias  \n",
              "0      Mailed check            65.6        593.30            2.20  \n",
              "1      Mailed check            59.9        542.40            2.01  \n",
              "2  Electronic check            73.9        280.85            2.34  \n",
              "3  Electronic check            98.0       1237.85            3.17  \n",
              "4      Mailed check            83.9        267.40            2.97  \n",
              "\n",
              "[5 rows x 22 columns]"
            ],
            "text/html": [
              "\n",
              "  <div id=\"df-72928c26-f5b4-4697-987c-7dcf9c9492ba\" class=\"colab-df-container\">\n",
              "    <div>\n",
              "<style scoped>\n",
              "    .dataframe tbody tr th:only-of-type {\n",
              "        vertical-align: middle;\n",
              "    }\n",
              "\n",
              "    .dataframe tbody tr th {\n",
              "        vertical-align: top;\n",
              "    }\n",
              "\n",
              "    .dataframe thead th {\n",
              "        text-align: right;\n",
              "    }\n",
              "</style>\n",
              "<table border=\"1\" class=\"dataframe\">\n",
              "  <thead>\n",
              "    <tr style=\"text-align: right;\">\n",
              "      <th></th>\n",
              "      <th>customerID</th>\n",
              "      <th>Churn</th>\n",
              "      <th>gender</th>\n",
              "      <th>SeniorCitizen</th>\n",
              "      <th>Partner</th>\n",
              "      <th>Dependents</th>\n",
              "      <th>tenure</th>\n",
              "      <th>PhoneService</th>\n",
              "      <th>MultipleLines</th>\n",
              "      <th>InternetService</th>\n",
              "      <th>...</th>\n",
              "      <th>DeviceProtection</th>\n",
              "      <th>TechSupport</th>\n",
              "      <th>StreamingTV</th>\n",
              "      <th>StreamingMovies</th>\n",
              "      <th>Contract</th>\n",
              "      <th>PaperlessBilling</th>\n",
              "      <th>PaymentMethod</th>\n",
              "      <th>Charges.Monthly</th>\n",
              "      <th>Charges.Total</th>\n",
              "      <th>Contas_Diarias</th>\n",
              "    </tr>\n",
              "  </thead>\n",
              "  <tbody>\n",
              "    <tr>\n",
              "      <th>0</th>\n",
              "      <td>0002-ORFBO</td>\n",
              "      <td>No</td>\n",
              "      <td>Female</td>\n",
              "      <td>0</td>\n",
              "      <td>Yes</td>\n",
              "      <td>Yes</td>\n",
              "      <td>9</td>\n",
              "      <td>Yes</td>\n",
              "      <td>No</td>\n",
              "      <td>DSL</td>\n",
              "      <td>...</td>\n",
              "      <td>No</td>\n",
              "      <td>Yes</td>\n",
              "      <td>Yes</td>\n",
              "      <td>No</td>\n",
              "      <td>One year</td>\n",
              "      <td>Yes</td>\n",
              "      <td>Mailed check</td>\n",
              "      <td>65.6</td>\n",
              "      <td>593.30</td>\n",
              "      <td>2.20</td>\n",
              "    </tr>\n",
              "    <tr>\n",
              "      <th>1</th>\n",
              "      <td>0003-MKNFE</td>\n",
              "      <td>No</td>\n",
              "      <td>Male</td>\n",
              "      <td>0</td>\n",
              "      <td>No</td>\n",
              "      <td>No</td>\n",
              "      <td>9</td>\n",
              "      <td>Yes</td>\n",
              "      <td>Yes</td>\n",
              "      <td>DSL</td>\n",
              "      <td>...</td>\n",
              "      <td>No</td>\n",
              "      <td>No</td>\n",
              "      <td>No</td>\n",
              "      <td>Yes</td>\n",
              "      <td>Month-to-month</td>\n",
              "      <td>No</td>\n",
              "      <td>Mailed check</td>\n",
              "      <td>59.9</td>\n",
              "      <td>542.40</td>\n",
              "      <td>2.01</td>\n",
              "    </tr>\n",
              "    <tr>\n",
              "      <th>2</th>\n",
              "      <td>0004-TLHLJ</td>\n",
              "      <td>Yes</td>\n",
              "      <td>Male</td>\n",
              "      <td>0</td>\n",
              "      <td>No</td>\n",
              "      <td>No</td>\n",
              "      <td>4</td>\n",
              "      <td>Yes</td>\n",
              "      <td>No</td>\n",
              "      <td>Fiber optic</td>\n",
              "      <td>...</td>\n",
              "      <td>Yes</td>\n",
              "      <td>No</td>\n",
              "      <td>No</td>\n",
              "      <td>No</td>\n",
              "      <td>Month-to-month</td>\n",
              "      <td>Yes</td>\n",
              "      <td>Electronic check</td>\n",
              "      <td>73.9</td>\n",
              "      <td>280.85</td>\n",
              "      <td>2.34</td>\n",
              "    </tr>\n",
              "    <tr>\n",
              "      <th>3</th>\n",
              "      <td>0011-IGKFF</td>\n",
              "      <td>Yes</td>\n",
              "      <td>Male</td>\n",
              "      <td>1</td>\n",
              "      <td>Yes</td>\n",
              "      <td>No</td>\n",
              "      <td>13</td>\n",
              "      <td>Yes</td>\n",
              "      <td>No</td>\n",
              "      <td>Fiber optic</td>\n",
              "      <td>...</td>\n",
              "      <td>Yes</td>\n",
              "      <td>No</td>\n",
              "      <td>Yes</td>\n",
              "      <td>Yes</td>\n",
              "      <td>Month-to-month</td>\n",
              "      <td>Yes</td>\n",
              "      <td>Electronic check</td>\n",
              "      <td>98.0</td>\n",
              "      <td>1237.85</td>\n",
              "      <td>3.17</td>\n",
              "    </tr>\n",
              "    <tr>\n",
              "      <th>4</th>\n",
              "      <td>0013-EXCHZ</td>\n",
              "      <td>Yes</td>\n",
              "      <td>Female</td>\n",
              "      <td>1</td>\n",
              "      <td>Yes</td>\n",
              "      <td>No</td>\n",
              "      <td>3</td>\n",
              "      <td>Yes</td>\n",
              "      <td>No</td>\n",
              "      <td>Fiber optic</td>\n",
              "      <td>...</td>\n",
              "      <td>No</td>\n",
              "      <td>Yes</td>\n",
              "      <td>Yes</td>\n",
              "      <td>No</td>\n",
              "      <td>Month-to-month</td>\n",
              "      <td>Yes</td>\n",
              "      <td>Mailed check</td>\n",
              "      <td>83.9</td>\n",
              "      <td>267.40</td>\n",
              "      <td>2.97</td>\n",
              "    </tr>\n",
              "  </tbody>\n",
              "</table>\n",
              "<p>5 rows × 22 columns</p>\n",
              "</div>\n",
              "    <div class=\"colab-df-buttons\">\n",
              "\n",
              "  <div class=\"colab-df-container\">\n",
              "    <button class=\"colab-df-convert\" onclick=\"convertToInteractive('df-72928c26-f5b4-4697-987c-7dcf9c9492ba')\"\n",
              "            title=\"Convert this dataframe to an interactive table.\"\n",
              "            style=\"display:none;\">\n",
              "\n",
              "  <svg xmlns=\"http://www.w3.org/2000/svg\" height=\"24px\" viewBox=\"0 -960 960 960\">\n",
              "    <path d=\"M120-120v-720h720v720H120Zm60-500h600v-160H180v160Zm220 220h160v-160H400v160Zm0 220h160v-160H400v160ZM180-400h160v-160H180v160Zm440 0h160v-160H620v160ZM180-180h160v-160H180v160Zm440 0h160v-160H620v160Z\"/>\n",
              "  </svg>\n",
              "    </button>\n",
              "\n",
              "  <style>\n",
              "    .colab-df-container {\n",
              "      display:flex;\n",
              "      gap: 12px;\n",
              "    }\n",
              "\n",
              "    .colab-df-convert {\n",
              "      background-color: #E8F0FE;\n",
              "      border: none;\n",
              "      border-radius: 50%;\n",
              "      cursor: pointer;\n",
              "      display: none;\n",
              "      fill: #1967D2;\n",
              "      height: 32px;\n",
              "      padding: 0 0 0 0;\n",
              "      width: 32px;\n",
              "    }\n",
              "\n",
              "    .colab-df-convert:hover {\n",
              "      background-color: #E2EBFA;\n",
              "      box-shadow: 0px 1px 2px rgba(60, 64, 67, 0.3), 0px 1px 3px 1px rgba(60, 64, 67, 0.15);\n",
              "      fill: #174EA6;\n",
              "    }\n",
              "\n",
              "    .colab-df-buttons div {\n",
              "      margin-bottom: 4px;\n",
              "    }\n",
              "\n",
              "    [theme=dark] .colab-df-convert {\n",
              "      background-color: #3B4455;\n",
              "      fill: #D2E3FC;\n",
              "    }\n",
              "\n",
              "    [theme=dark] .colab-df-convert:hover {\n",
              "      background-color: #434B5C;\n",
              "      box-shadow: 0px 1px 3px 1px rgba(0, 0, 0, 0.15);\n",
              "      filter: drop-shadow(0px 1px 2px rgba(0, 0, 0, 0.3));\n",
              "      fill: #FFFFFF;\n",
              "    }\n",
              "  </style>\n",
              "\n",
              "    <script>\n",
              "      const buttonEl =\n",
              "        document.querySelector('#df-72928c26-f5b4-4697-987c-7dcf9c9492ba button.colab-df-convert');\n",
              "      buttonEl.style.display =\n",
              "        google.colab.kernel.accessAllowed ? 'block' : 'none';\n",
              "\n",
              "      async function convertToInteractive(key) {\n",
              "        const element = document.querySelector('#df-72928c26-f5b4-4697-987c-7dcf9c9492ba');\n",
              "        const dataTable =\n",
              "          await google.colab.kernel.invokeFunction('convertToInteractive',\n",
              "                                                    [key], {});\n",
              "        if (!dataTable) return;\n",
              "\n",
              "        const docLinkHtml = 'Like what you see? Visit the ' +\n",
              "          '<a target=\"_blank\" href=https://colab.research.google.com/notebooks/data_table.ipynb>data table notebook</a>'\n",
              "          + ' to learn more about interactive tables.';\n",
              "        element.innerHTML = '';\n",
              "        dataTable['output_type'] = 'display_data';\n",
              "        await google.colab.output.renderOutput(dataTable, element);\n",
              "        const docLink = document.createElement('div');\n",
              "        docLink.innerHTML = docLinkHtml;\n",
              "        element.appendChild(docLink);\n",
              "      }\n",
              "    </script>\n",
              "  </div>\n",
              "\n",
              "\n",
              "    <div id=\"df-acc49d71-a439-408b-b6b8-92c318f98383\">\n",
              "      <button class=\"colab-df-quickchart\" onclick=\"quickchart('df-acc49d71-a439-408b-b6b8-92c318f98383')\"\n",
              "                title=\"Suggest charts\"\n",
              "                style=\"display:none;\">\n",
              "\n",
              "<svg xmlns=\"http://www.w3.org/2000/svg\" height=\"24px\"viewBox=\"0 0 24 24\"\n",
              "     width=\"24px\">\n",
              "    <g>\n",
              "        <path d=\"M19 3H5c-1.1 0-2 .9-2 2v14c0 1.1.9 2 2 2h14c1.1 0 2-.9 2-2V5c0-1.1-.9-2-2-2zM9 17H7v-7h2v7zm4 0h-2V7h2v10zm4 0h-2v-4h2v4z\"/>\n",
              "    </g>\n",
              "</svg>\n",
              "      </button>\n",
              "\n",
              "<style>\n",
              "  .colab-df-quickchart {\n",
              "      --bg-color: #E8F0FE;\n",
              "      --fill-color: #1967D2;\n",
              "      --hover-bg-color: #E2EBFA;\n",
              "      --hover-fill-color: #174EA6;\n",
              "      --disabled-fill-color: #AAA;\n",
              "      --disabled-bg-color: #DDD;\n",
              "  }\n",
              "\n",
              "  [theme=dark] .colab-df-quickchart {\n",
              "      --bg-color: #3B4455;\n",
              "      --fill-color: #D2E3FC;\n",
              "      --hover-bg-color: #434B5C;\n",
              "      --hover-fill-color: #FFFFFF;\n",
              "      --disabled-bg-color: #3B4455;\n",
              "      --disabled-fill-color: #666;\n",
              "  }\n",
              "\n",
              "  .colab-df-quickchart {\n",
              "    background-color: var(--bg-color);\n",
              "    border: none;\n",
              "    border-radius: 50%;\n",
              "    cursor: pointer;\n",
              "    display: none;\n",
              "    fill: var(--fill-color);\n",
              "    height: 32px;\n",
              "    padding: 0;\n",
              "    width: 32px;\n",
              "  }\n",
              "\n",
              "  .colab-df-quickchart:hover {\n",
              "    background-color: var(--hover-bg-color);\n",
              "    box-shadow: 0 1px 2px rgba(60, 64, 67, 0.3), 0 1px 3px 1px rgba(60, 64, 67, 0.15);\n",
              "    fill: var(--button-hover-fill-color);\n",
              "  }\n",
              "\n",
              "  .colab-df-quickchart-complete:disabled,\n",
              "  .colab-df-quickchart-complete:disabled:hover {\n",
              "    background-color: var(--disabled-bg-color);\n",
              "    fill: var(--disabled-fill-color);\n",
              "    box-shadow: none;\n",
              "  }\n",
              "\n",
              "  .colab-df-spinner {\n",
              "    border: 2px solid var(--fill-color);\n",
              "    border-color: transparent;\n",
              "    border-bottom-color: var(--fill-color);\n",
              "    animation:\n",
              "      spin 1s steps(1) infinite;\n",
              "  }\n",
              "\n",
              "  @keyframes spin {\n",
              "    0% {\n",
              "      border-color: transparent;\n",
              "      border-bottom-color: var(--fill-color);\n",
              "      border-left-color: var(--fill-color);\n",
              "    }\n",
              "    20% {\n",
              "      border-color: transparent;\n",
              "      border-left-color: var(--fill-color);\n",
              "      border-top-color: var(--fill-color);\n",
              "    }\n",
              "    30% {\n",
              "      border-color: transparent;\n",
              "      border-left-color: var(--fill-color);\n",
              "      border-top-color: var(--fill-color);\n",
              "      border-right-color: var(--fill-color);\n",
              "    }\n",
              "    40% {\n",
              "      border-color: transparent;\n",
              "      border-right-color: var(--fill-color);\n",
              "      border-top-color: var(--fill-color);\n",
              "    }\n",
              "    60% {\n",
              "      border-color: transparent;\n",
              "      border-right-color: var(--fill-color);\n",
              "    }\n",
              "    80% {\n",
              "      border-color: transparent;\n",
              "      border-right-color: var(--fill-color);\n",
              "      border-bottom-color: var(--fill-color);\n",
              "    }\n",
              "    90% {\n",
              "      border-color: transparent;\n",
              "      border-bottom-color: var(--fill-color);\n",
              "    }\n",
              "  }\n",
              "</style>\n",
              "\n",
              "      <script>\n",
              "        async function quickchart(key) {\n",
              "          const quickchartButtonEl =\n",
              "            document.querySelector('#' + key + ' button');\n",
              "          quickchartButtonEl.disabled = true;  // To prevent multiple clicks.\n",
              "          quickchartButtonEl.classList.add('colab-df-spinner');\n",
              "          try {\n",
              "            const charts = await google.colab.kernel.invokeFunction(\n",
              "                'suggestCharts', [key], {});\n",
              "          } catch (error) {\n",
              "            console.error('Error during call to suggestCharts:', error);\n",
              "          }\n",
              "          quickchartButtonEl.classList.remove('colab-df-spinner');\n",
              "          quickchartButtonEl.classList.add('colab-df-quickchart-complete');\n",
              "        }\n",
              "        (() => {\n",
              "          let quickchartButtonEl =\n",
              "            document.querySelector('#df-acc49d71-a439-408b-b6b8-92c318f98383 button');\n",
              "          quickchartButtonEl.style.display =\n",
              "            google.colab.kernel.accessAllowed ? 'block' : 'none';\n",
              "        })();\n",
              "      </script>\n",
              "    </div>\n",
              "\n",
              "    </div>\n",
              "  </div>\n"
            ],
            "application/vnd.google.colaboratory.intrinsic+json": {
              "type": "dataframe",
              "variable_name": "df"
            }
          },
          "metadata": {},
          "execution_count": 37
        }
      ]
    },
    {
      "cell_type": "markdown",
      "source": [
        "## Verificando e excluindo colunas Irrelevantes"
      ],
      "metadata": {
        "id": "Pq-NvsW46rRx"
      }
    },
    {
      "cell_type": "code",
      "source": [
        "#Colunas com valor único\n",
        "colunas_unicas = [col for col in df.columns if df[col].nunique() <= 1]\n",
        "\n",
        "#Correlação para numéricas\n",
        "correlacao = df.corr(numeric_only=True).abs()\n",
        "correlacao_alta = []\n",
        "for col in correlacao.columns:\n",
        "    correladas = correlacao.index[(correlacao[col] > 0.9) & (correlacao[col] < 1)]\n",
        "    if len(correladas) > 0:\n",
        "        correlacao_alta.append((col, list(correladas)))\n",
        "\n",
        "#Colunas com alta cardinalidade (possível ID disfarçado)\n",
        "colunas_alta_card = [col for col in df.columns if df[col].nunique() > 0.9 * len(df)]\n",
        "\n",
        "print(\"Colunas com valor único:\", colunas_unicas)\n",
        "print(\"\\nColunas altamente correlacionadas:\", correlacao_alta)\n",
        "print(\"\\nColunas com alta cardinalidade:\", colunas_alta_card)\n",
        "\n",
        "#Excluir as colunas customerID, Contas_Diarias, Charges.Total\n",
        "df = df.drop(columns=['customerID', 'Contas_Diarias', 'Charges.Total'], errors='ignore')\n",
        "\n",
        "df.head()"
      ],
      "metadata": {
        "colab": {
          "base_uri": "https://localhost:8080/",
          "height": 0
        },
        "id": "16HiqVyP4rTz",
        "outputId": "0d152ec5-9495-4465-9c20-d89c78446999"
      },
      "execution_count": 39,
      "outputs": [
        {
          "output_type": "stream",
          "name": "stdout",
          "text": [
            "Colunas com valor único: []\n",
            "\n",
            "Colunas altamente correlacionadas: []\n",
            "\n",
            "Colunas com alta cardinalidade: []\n"
          ]
        },
        {
          "output_type": "execute_result",
          "data": {
            "text/plain": [
              "  Churn  gender  SeniorCitizen Partner Dependents  tenure PhoneService  \\\n",
              "0    No  Female              0     Yes        Yes       9          Yes   \n",
              "1    No    Male              0      No         No       9          Yes   \n",
              "2   Yes    Male              0      No         No       4          Yes   \n",
              "3   Yes    Male              1     Yes         No      13          Yes   \n",
              "4   Yes  Female              1     Yes         No       3          Yes   \n",
              "\n",
              "  MultipleLines InternetService OnlineSecurity OnlineBackup DeviceProtection  \\\n",
              "0            No             DSL             No          Yes               No   \n",
              "1           Yes             DSL             No           No               No   \n",
              "2            No     Fiber optic             No           No              Yes   \n",
              "3            No     Fiber optic             No          Yes              Yes   \n",
              "4            No     Fiber optic             No           No               No   \n",
              "\n",
              "  TechSupport StreamingTV StreamingMovies        Contract PaperlessBilling  \\\n",
              "0         Yes         Yes              No        One year              Yes   \n",
              "1          No          No             Yes  Month-to-month               No   \n",
              "2          No          No              No  Month-to-month              Yes   \n",
              "3          No         Yes             Yes  Month-to-month              Yes   \n",
              "4         Yes         Yes              No  Month-to-month              Yes   \n",
              "\n",
              "      PaymentMethod  Charges.Monthly  \n",
              "0      Mailed check             65.6  \n",
              "1      Mailed check             59.9  \n",
              "2  Electronic check             73.9  \n",
              "3  Electronic check             98.0  \n",
              "4      Mailed check             83.9  "
            ],
            "text/html": [
              "\n",
              "  <div id=\"df-884ae9c6-b0d2-43c6-8c94-f4884a785366\" class=\"colab-df-container\">\n",
              "    <div>\n",
              "<style scoped>\n",
              "    .dataframe tbody tr th:only-of-type {\n",
              "        vertical-align: middle;\n",
              "    }\n",
              "\n",
              "    .dataframe tbody tr th {\n",
              "        vertical-align: top;\n",
              "    }\n",
              "\n",
              "    .dataframe thead th {\n",
              "        text-align: right;\n",
              "    }\n",
              "</style>\n",
              "<table border=\"1\" class=\"dataframe\">\n",
              "  <thead>\n",
              "    <tr style=\"text-align: right;\">\n",
              "      <th></th>\n",
              "      <th>Churn</th>\n",
              "      <th>gender</th>\n",
              "      <th>SeniorCitizen</th>\n",
              "      <th>Partner</th>\n",
              "      <th>Dependents</th>\n",
              "      <th>tenure</th>\n",
              "      <th>PhoneService</th>\n",
              "      <th>MultipleLines</th>\n",
              "      <th>InternetService</th>\n",
              "      <th>OnlineSecurity</th>\n",
              "      <th>OnlineBackup</th>\n",
              "      <th>DeviceProtection</th>\n",
              "      <th>TechSupport</th>\n",
              "      <th>StreamingTV</th>\n",
              "      <th>StreamingMovies</th>\n",
              "      <th>Contract</th>\n",
              "      <th>PaperlessBilling</th>\n",
              "      <th>PaymentMethod</th>\n",
              "      <th>Charges.Monthly</th>\n",
              "    </tr>\n",
              "  </thead>\n",
              "  <tbody>\n",
              "    <tr>\n",
              "      <th>0</th>\n",
              "      <td>No</td>\n",
              "      <td>Female</td>\n",
              "      <td>0</td>\n",
              "      <td>Yes</td>\n",
              "      <td>Yes</td>\n",
              "      <td>9</td>\n",
              "      <td>Yes</td>\n",
              "      <td>No</td>\n",
              "      <td>DSL</td>\n",
              "      <td>No</td>\n",
              "      <td>Yes</td>\n",
              "      <td>No</td>\n",
              "      <td>Yes</td>\n",
              "      <td>Yes</td>\n",
              "      <td>No</td>\n",
              "      <td>One year</td>\n",
              "      <td>Yes</td>\n",
              "      <td>Mailed check</td>\n",
              "      <td>65.6</td>\n",
              "    </tr>\n",
              "    <tr>\n",
              "      <th>1</th>\n",
              "      <td>No</td>\n",
              "      <td>Male</td>\n",
              "      <td>0</td>\n",
              "      <td>No</td>\n",
              "      <td>No</td>\n",
              "      <td>9</td>\n",
              "      <td>Yes</td>\n",
              "      <td>Yes</td>\n",
              "      <td>DSL</td>\n",
              "      <td>No</td>\n",
              "      <td>No</td>\n",
              "      <td>No</td>\n",
              "      <td>No</td>\n",
              "      <td>No</td>\n",
              "      <td>Yes</td>\n",
              "      <td>Month-to-month</td>\n",
              "      <td>No</td>\n",
              "      <td>Mailed check</td>\n",
              "      <td>59.9</td>\n",
              "    </tr>\n",
              "    <tr>\n",
              "      <th>2</th>\n",
              "      <td>Yes</td>\n",
              "      <td>Male</td>\n",
              "      <td>0</td>\n",
              "      <td>No</td>\n",
              "      <td>No</td>\n",
              "      <td>4</td>\n",
              "      <td>Yes</td>\n",
              "      <td>No</td>\n",
              "      <td>Fiber optic</td>\n",
              "      <td>No</td>\n",
              "      <td>No</td>\n",
              "      <td>Yes</td>\n",
              "      <td>No</td>\n",
              "      <td>No</td>\n",
              "      <td>No</td>\n",
              "      <td>Month-to-month</td>\n",
              "      <td>Yes</td>\n",
              "      <td>Electronic check</td>\n",
              "      <td>73.9</td>\n",
              "    </tr>\n",
              "    <tr>\n",
              "      <th>3</th>\n",
              "      <td>Yes</td>\n",
              "      <td>Male</td>\n",
              "      <td>1</td>\n",
              "      <td>Yes</td>\n",
              "      <td>No</td>\n",
              "      <td>13</td>\n",
              "      <td>Yes</td>\n",
              "      <td>No</td>\n",
              "      <td>Fiber optic</td>\n",
              "      <td>No</td>\n",
              "      <td>Yes</td>\n",
              "      <td>Yes</td>\n",
              "      <td>No</td>\n",
              "      <td>Yes</td>\n",
              "      <td>Yes</td>\n",
              "      <td>Month-to-month</td>\n",
              "      <td>Yes</td>\n",
              "      <td>Electronic check</td>\n",
              "      <td>98.0</td>\n",
              "    </tr>\n",
              "    <tr>\n",
              "      <th>4</th>\n",
              "      <td>Yes</td>\n",
              "      <td>Female</td>\n",
              "      <td>1</td>\n",
              "      <td>Yes</td>\n",
              "      <td>No</td>\n",
              "      <td>3</td>\n",
              "      <td>Yes</td>\n",
              "      <td>No</td>\n",
              "      <td>Fiber optic</td>\n",
              "      <td>No</td>\n",
              "      <td>No</td>\n",
              "      <td>No</td>\n",
              "      <td>Yes</td>\n",
              "      <td>Yes</td>\n",
              "      <td>No</td>\n",
              "      <td>Month-to-month</td>\n",
              "      <td>Yes</td>\n",
              "      <td>Mailed check</td>\n",
              "      <td>83.9</td>\n",
              "    </tr>\n",
              "  </tbody>\n",
              "</table>\n",
              "</div>\n",
              "    <div class=\"colab-df-buttons\">\n",
              "\n",
              "  <div class=\"colab-df-container\">\n",
              "    <button class=\"colab-df-convert\" onclick=\"convertToInteractive('df-884ae9c6-b0d2-43c6-8c94-f4884a785366')\"\n",
              "            title=\"Convert this dataframe to an interactive table.\"\n",
              "            style=\"display:none;\">\n",
              "\n",
              "  <svg xmlns=\"http://www.w3.org/2000/svg\" height=\"24px\" viewBox=\"0 -960 960 960\">\n",
              "    <path d=\"M120-120v-720h720v720H120Zm60-500h600v-160H180v160Zm220 220h160v-160H400v160Zm0 220h160v-160H400v160ZM180-400h160v-160H180v160Zm440 0h160v-160H620v160ZM180-180h160v-160H180v160Zm440 0h160v-160H620v160Z\"/>\n",
              "  </svg>\n",
              "    </button>\n",
              "\n",
              "  <style>\n",
              "    .colab-df-container {\n",
              "      display:flex;\n",
              "      gap: 12px;\n",
              "    }\n",
              "\n",
              "    .colab-df-convert {\n",
              "      background-color: #E8F0FE;\n",
              "      border: none;\n",
              "      border-radius: 50%;\n",
              "      cursor: pointer;\n",
              "      display: none;\n",
              "      fill: #1967D2;\n",
              "      height: 32px;\n",
              "      padding: 0 0 0 0;\n",
              "      width: 32px;\n",
              "    }\n",
              "\n",
              "    .colab-df-convert:hover {\n",
              "      background-color: #E2EBFA;\n",
              "      box-shadow: 0px 1px 2px rgba(60, 64, 67, 0.3), 0px 1px 3px 1px rgba(60, 64, 67, 0.15);\n",
              "      fill: #174EA6;\n",
              "    }\n",
              "\n",
              "    .colab-df-buttons div {\n",
              "      margin-bottom: 4px;\n",
              "    }\n",
              "\n",
              "    [theme=dark] .colab-df-convert {\n",
              "      background-color: #3B4455;\n",
              "      fill: #D2E3FC;\n",
              "    }\n",
              "\n",
              "    [theme=dark] .colab-df-convert:hover {\n",
              "      background-color: #434B5C;\n",
              "      box-shadow: 0px 1px 3px 1px rgba(0, 0, 0, 0.15);\n",
              "      filter: drop-shadow(0px 1px 2px rgba(0, 0, 0, 0.3));\n",
              "      fill: #FFFFFF;\n",
              "    }\n",
              "  </style>\n",
              "\n",
              "    <script>\n",
              "      const buttonEl =\n",
              "        document.querySelector('#df-884ae9c6-b0d2-43c6-8c94-f4884a785366 button.colab-df-convert');\n",
              "      buttonEl.style.display =\n",
              "        google.colab.kernel.accessAllowed ? 'block' : 'none';\n",
              "\n",
              "      async function convertToInteractive(key) {\n",
              "        const element = document.querySelector('#df-884ae9c6-b0d2-43c6-8c94-f4884a785366');\n",
              "        const dataTable =\n",
              "          await google.colab.kernel.invokeFunction('convertToInteractive',\n",
              "                                                    [key], {});\n",
              "        if (!dataTable) return;\n",
              "\n",
              "        const docLinkHtml = 'Like what you see? Visit the ' +\n",
              "          '<a target=\"_blank\" href=https://colab.research.google.com/notebooks/data_table.ipynb>data table notebook</a>'\n",
              "          + ' to learn more about interactive tables.';\n",
              "        element.innerHTML = '';\n",
              "        dataTable['output_type'] = 'display_data';\n",
              "        await google.colab.output.renderOutput(dataTable, element);\n",
              "        const docLink = document.createElement('div');\n",
              "        docLink.innerHTML = docLinkHtml;\n",
              "        element.appendChild(docLink);\n",
              "      }\n",
              "    </script>\n",
              "  </div>\n",
              "\n",
              "\n",
              "    <div id=\"df-fa2ce2d7-f472-4746-bd71-f8ac7c147272\">\n",
              "      <button class=\"colab-df-quickchart\" onclick=\"quickchart('df-fa2ce2d7-f472-4746-bd71-f8ac7c147272')\"\n",
              "                title=\"Suggest charts\"\n",
              "                style=\"display:none;\">\n",
              "\n",
              "<svg xmlns=\"http://www.w3.org/2000/svg\" height=\"24px\"viewBox=\"0 0 24 24\"\n",
              "     width=\"24px\">\n",
              "    <g>\n",
              "        <path d=\"M19 3H5c-1.1 0-2 .9-2 2v14c0 1.1.9 2 2 2h14c1.1 0 2-.9 2-2V5c0-1.1-.9-2-2-2zM9 17H7v-7h2v7zm4 0h-2V7h2v10zm4 0h-2v-4h2v4z\"/>\n",
              "    </g>\n",
              "</svg>\n",
              "      </button>\n",
              "\n",
              "<style>\n",
              "  .colab-df-quickchart {\n",
              "      --bg-color: #E8F0FE;\n",
              "      --fill-color: #1967D2;\n",
              "      --hover-bg-color: #E2EBFA;\n",
              "      --hover-fill-color: #174EA6;\n",
              "      --disabled-fill-color: #AAA;\n",
              "      --disabled-bg-color: #DDD;\n",
              "  }\n",
              "\n",
              "  [theme=dark] .colab-df-quickchart {\n",
              "      --bg-color: #3B4455;\n",
              "      --fill-color: #D2E3FC;\n",
              "      --hover-bg-color: #434B5C;\n",
              "      --hover-fill-color: #FFFFFF;\n",
              "      --disabled-bg-color: #3B4455;\n",
              "      --disabled-fill-color: #666;\n",
              "  }\n",
              "\n",
              "  .colab-df-quickchart {\n",
              "    background-color: var(--bg-color);\n",
              "    border: none;\n",
              "    border-radius: 50%;\n",
              "    cursor: pointer;\n",
              "    display: none;\n",
              "    fill: var(--fill-color);\n",
              "    height: 32px;\n",
              "    padding: 0;\n",
              "    width: 32px;\n",
              "  }\n",
              "\n",
              "  .colab-df-quickchart:hover {\n",
              "    background-color: var(--hover-bg-color);\n",
              "    box-shadow: 0 1px 2px rgba(60, 64, 67, 0.3), 0 1px 3px 1px rgba(60, 64, 67, 0.15);\n",
              "    fill: var(--button-hover-fill-color);\n",
              "  }\n",
              "\n",
              "  .colab-df-quickchart-complete:disabled,\n",
              "  .colab-df-quickchart-complete:disabled:hover {\n",
              "    background-color: var(--disabled-bg-color);\n",
              "    fill: var(--disabled-fill-color);\n",
              "    box-shadow: none;\n",
              "  }\n",
              "\n",
              "  .colab-df-spinner {\n",
              "    border: 2px solid var(--fill-color);\n",
              "    border-color: transparent;\n",
              "    border-bottom-color: var(--fill-color);\n",
              "    animation:\n",
              "      spin 1s steps(1) infinite;\n",
              "  }\n",
              "\n",
              "  @keyframes spin {\n",
              "    0% {\n",
              "      border-color: transparent;\n",
              "      border-bottom-color: var(--fill-color);\n",
              "      border-left-color: var(--fill-color);\n",
              "    }\n",
              "    20% {\n",
              "      border-color: transparent;\n",
              "      border-left-color: var(--fill-color);\n",
              "      border-top-color: var(--fill-color);\n",
              "    }\n",
              "    30% {\n",
              "      border-color: transparent;\n",
              "      border-left-color: var(--fill-color);\n",
              "      border-top-color: var(--fill-color);\n",
              "      border-right-color: var(--fill-color);\n",
              "    }\n",
              "    40% {\n",
              "      border-color: transparent;\n",
              "      border-right-color: var(--fill-color);\n",
              "      border-top-color: var(--fill-color);\n",
              "    }\n",
              "    60% {\n",
              "      border-color: transparent;\n",
              "      border-right-color: var(--fill-color);\n",
              "    }\n",
              "    80% {\n",
              "      border-color: transparent;\n",
              "      border-right-color: var(--fill-color);\n",
              "      border-bottom-color: var(--fill-color);\n",
              "    }\n",
              "    90% {\n",
              "      border-color: transparent;\n",
              "      border-bottom-color: var(--fill-color);\n",
              "    }\n",
              "  }\n",
              "</style>\n",
              "\n",
              "      <script>\n",
              "        async function quickchart(key) {\n",
              "          const quickchartButtonEl =\n",
              "            document.querySelector('#' + key + ' button');\n",
              "          quickchartButtonEl.disabled = true;  // To prevent multiple clicks.\n",
              "          quickchartButtonEl.classList.add('colab-df-spinner');\n",
              "          try {\n",
              "            const charts = await google.colab.kernel.invokeFunction(\n",
              "                'suggestCharts', [key], {});\n",
              "          } catch (error) {\n",
              "            console.error('Error during call to suggestCharts:', error);\n",
              "          }\n",
              "          quickchartButtonEl.classList.remove('colab-df-spinner');\n",
              "          quickchartButtonEl.classList.add('colab-df-quickchart-complete');\n",
              "        }\n",
              "        (() => {\n",
              "          let quickchartButtonEl =\n",
              "            document.querySelector('#df-fa2ce2d7-f472-4746-bd71-f8ac7c147272 button');\n",
              "          quickchartButtonEl.style.display =\n",
              "            google.colab.kernel.accessAllowed ? 'block' : 'none';\n",
              "        })();\n",
              "      </script>\n",
              "    </div>\n",
              "\n",
              "    </div>\n",
              "  </div>\n"
            ],
            "application/vnd.google.colaboratory.intrinsic+json": {
              "type": "dataframe",
              "variable_name": "df",
              "summary": "{\n  \"name\": \"df\",\n  \"rows\": 7043,\n  \"fields\": [\n    {\n      \"column\": \"Churn\",\n      \"properties\": {\n        \"dtype\": \"category\",\n        \"num_unique_values\": 2,\n        \"samples\": [\n          \"Yes\",\n          \"No\"\n        ],\n        \"semantic_type\": \"\",\n        \"description\": \"\"\n      }\n    },\n    {\n      \"column\": \"gender\",\n      \"properties\": {\n        \"dtype\": \"category\",\n        \"num_unique_values\": 2,\n        \"samples\": [\n          \"Male\",\n          \"Female\"\n        ],\n        \"semantic_type\": \"\",\n        \"description\": \"\"\n      }\n    },\n    {\n      \"column\": \"SeniorCitizen\",\n      \"properties\": {\n        \"dtype\": \"number\",\n        \"std\": 0,\n        \"min\": 0,\n        \"max\": 1,\n        \"num_unique_values\": 2,\n        \"samples\": [\n          1,\n          0\n        ],\n        \"semantic_type\": \"\",\n        \"description\": \"\"\n      }\n    },\n    {\n      \"column\": \"Partner\",\n      \"properties\": {\n        \"dtype\": \"category\",\n        \"num_unique_values\": 2,\n        \"samples\": [\n          \"No\",\n          \"Yes\"\n        ],\n        \"semantic_type\": \"\",\n        \"description\": \"\"\n      }\n    },\n    {\n      \"column\": \"Dependents\",\n      \"properties\": {\n        \"dtype\": \"category\",\n        \"num_unique_values\": 2,\n        \"samples\": [\n          \"No\",\n          \"Yes\"\n        ],\n        \"semantic_type\": \"\",\n        \"description\": \"\"\n      }\n    },\n    {\n      \"column\": \"tenure\",\n      \"properties\": {\n        \"dtype\": \"number\",\n        \"std\": 24,\n        \"min\": 0,\n        \"max\": 72,\n        \"num_unique_values\": 73,\n        \"samples\": [\n          71,\n          53\n        ],\n        \"semantic_type\": \"\",\n        \"description\": \"\"\n      }\n    },\n    {\n      \"column\": \"PhoneService\",\n      \"properties\": {\n        \"dtype\": \"category\",\n        \"num_unique_values\": 2,\n        \"samples\": [\n          \"No\",\n          \"Yes\"\n        ],\n        \"semantic_type\": \"\",\n        \"description\": \"\"\n      }\n    },\n    {\n      \"column\": \"MultipleLines\",\n      \"properties\": {\n        \"dtype\": \"category\",\n        \"num_unique_values\": 3,\n        \"samples\": [\n          \"No\",\n          \"Yes\"\n        ],\n        \"semantic_type\": \"\",\n        \"description\": \"\"\n      }\n    },\n    {\n      \"column\": \"InternetService\",\n      \"properties\": {\n        \"dtype\": \"category\",\n        \"num_unique_values\": 3,\n        \"samples\": [\n          \"DSL\",\n          \"Fiber optic\"\n        ],\n        \"semantic_type\": \"\",\n        \"description\": \"\"\n      }\n    },\n    {\n      \"column\": \"OnlineSecurity\",\n      \"properties\": {\n        \"dtype\": \"category\",\n        \"num_unique_values\": 3,\n        \"samples\": [\n          \"No\",\n          \"Yes\"\n        ],\n        \"semantic_type\": \"\",\n        \"description\": \"\"\n      }\n    },\n    {\n      \"column\": \"OnlineBackup\",\n      \"properties\": {\n        \"dtype\": \"category\",\n        \"num_unique_values\": 3,\n        \"samples\": [\n          \"Yes\",\n          \"No\"\n        ],\n        \"semantic_type\": \"\",\n        \"description\": \"\"\n      }\n    },\n    {\n      \"column\": \"DeviceProtection\",\n      \"properties\": {\n        \"dtype\": \"category\",\n        \"num_unique_values\": 3,\n        \"samples\": [\n          \"No\",\n          \"Yes\"\n        ],\n        \"semantic_type\": \"\",\n        \"description\": \"\"\n      }\n    },\n    {\n      \"column\": \"TechSupport\",\n      \"properties\": {\n        \"dtype\": \"category\",\n        \"num_unique_values\": 3,\n        \"samples\": [\n          \"Yes\",\n          \"No\"\n        ],\n        \"semantic_type\": \"\",\n        \"description\": \"\"\n      }\n    },\n    {\n      \"column\": \"StreamingTV\",\n      \"properties\": {\n        \"dtype\": \"category\",\n        \"num_unique_values\": 3,\n        \"samples\": [\n          \"Yes\",\n          \"No\"\n        ],\n        \"semantic_type\": \"\",\n        \"description\": \"\"\n      }\n    },\n    {\n      \"column\": \"StreamingMovies\",\n      \"properties\": {\n        \"dtype\": \"category\",\n        \"num_unique_values\": 3,\n        \"samples\": [\n          \"No\",\n          \"Yes\"\n        ],\n        \"semantic_type\": \"\",\n        \"description\": \"\"\n      }\n    },\n    {\n      \"column\": \"Contract\",\n      \"properties\": {\n        \"dtype\": \"category\",\n        \"num_unique_values\": 3,\n        \"samples\": [\n          \"One year\",\n          \"Month-to-month\"\n        ],\n        \"semantic_type\": \"\",\n        \"description\": \"\"\n      }\n    },\n    {\n      \"column\": \"PaperlessBilling\",\n      \"properties\": {\n        \"dtype\": \"category\",\n        \"num_unique_values\": 2,\n        \"samples\": [\n          \"No\",\n          \"Yes\"\n        ],\n        \"semantic_type\": \"\",\n        \"description\": \"\"\n      }\n    },\n    {\n      \"column\": \"PaymentMethod\",\n      \"properties\": {\n        \"dtype\": \"category\",\n        \"num_unique_values\": 4,\n        \"samples\": [\n          \"Electronic check\",\n          \"Bank transfer (automatic)\"\n        ],\n        \"semantic_type\": \"\",\n        \"description\": \"\"\n      }\n    },\n    {\n      \"column\": \"Charges.Monthly\",\n      \"properties\": {\n        \"dtype\": \"number\",\n        \"std\": 30.09004709767855,\n        \"min\": 18.25,\n        \"max\": 118.75,\n        \"num_unique_values\": 1585,\n        \"samples\": [\n          104.15,\n          47.85\n        ],\n        \"semantic_type\": \"\",\n        \"description\": \"\"\n      }\n    }\n  ]\n}"
            }
          },
          "metadata": {},
          "execution_count": 39
        }
      ]
    },
    {
      "cell_type": "markdown",
      "source": [
        "## Encoding"
      ],
      "metadata": {
        "id": "bcAtajPq8Lfc"
      }
    },
    {
      "cell_type": "code",
      "source": [
        "# Converter variável alvo 'Churn' para binário\n",
        "df['Churn'] = df['Churn'].map({'Yes': 1, 'No': 0})"
      ],
      "metadata": {
        "id": "9IB20cxz8Dyl"
      },
      "execution_count": 40,
      "outputs": []
    },
    {
      "cell_type": "code",
      "source": [
        "# Aplicar One-Hot Encoding nas colunas categóricas\n",
        "df = pd.get_dummies(df, drop_first=True)\n",
        "\n",
        "print(df.head())"
      ],
      "metadata": {
        "colab": {
          "base_uri": "https://localhost:8080/"
        },
        "id": "rrzSVajO8fvN",
        "outputId": "5abf4ead-8c4a-4f06-aa2f-758796bae10a"
      },
      "execution_count": 41,
      "outputs": [
        {
          "output_type": "stream",
          "name": "stdout",
          "text": [
            "   Churn  SeniorCitizen  tenure  Charges.Monthly  gender_Male  Partner_Yes  \\\n",
            "0      0              0       9             65.6        False         True   \n",
            "1      0              0       9             59.9         True        False   \n",
            "2      1              0       4             73.9         True        False   \n",
            "3      1              1      13             98.0         True         True   \n",
            "4      1              1       3             83.9        False         True   \n",
            "\n",
            "   Dependents_Yes  PhoneService_Yes  MultipleLines_No phone service  \\\n",
            "0            True              True                           False   \n",
            "1           False              True                           False   \n",
            "2           False              True                           False   \n",
            "3           False              True                           False   \n",
            "4           False              True                           False   \n",
            "\n",
            "   MultipleLines_Yes  ...  StreamingTV_No internet service  StreamingTV_Yes  \\\n",
            "0              False  ...                            False             True   \n",
            "1               True  ...                            False            False   \n",
            "2              False  ...                            False            False   \n",
            "3              False  ...                            False             True   \n",
            "4              False  ...                            False             True   \n",
            "\n",
            "   StreamingMovies_No internet service  StreamingMovies_Yes  \\\n",
            "0                                False                False   \n",
            "1                                False                 True   \n",
            "2                                False                False   \n",
            "3                                False                 True   \n",
            "4                                False                False   \n",
            "\n",
            "   Contract_One year  Contract_Two year  PaperlessBilling_Yes  \\\n",
            "0               True              False                  True   \n",
            "1              False              False                 False   \n",
            "2              False              False                  True   \n",
            "3              False              False                  True   \n",
            "4              False              False                  True   \n",
            "\n",
            "   PaymentMethod_Credit card (automatic)  PaymentMethod_Electronic check  \\\n",
            "0                                  False                           False   \n",
            "1                                  False                           False   \n",
            "2                                  False                            True   \n",
            "3                                  False                            True   \n",
            "4                                  False                           False   \n",
            "\n",
            "   PaymentMethod_Mailed check  \n",
            "0                        True  \n",
            "1                        True  \n",
            "2                       False  \n",
            "3                       False  \n",
            "4                        True  \n",
            "\n",
            "[5 rows x 30 columns]\n"
          ]
        }
      ]
    },
    {
      "cell_type": "markdown",
      "source": [
        "## Verificação da Proporção de Evasão"
      ],
      "metadata": {
        "id": "qa5vBAnsADBS"
      }
    },
    {
      "cell_type": "code",
      "source": [
        "# Contagem dos valores da coluna 'Churn'\n",
        "contagem = df['Churn'].value_counts()\n",
        "\n",
        "print(\"Contagem de clientes por classe:\")\n",
        "print(contagem)\n",
        "\n",
        "# Proporção\n",
        "proporcao = contagem / contagem.sum()\n",
        "\n",
        "print(\"\\nProporção de clientes por classe:\")\n",
        "print(proporcao)\n",
        "\n",
        "# Proporção entre evadidos e ativos\n",
        "prop_evadidos = proporcao.get(1, 0)\n",
        "prop_ativos = proporcao.get(0, 0)\n",
        "\n",
        "print(f\"\\nProporção de evadidos (Churn=1): {prop_evadidos:.4f}\")\n",
        "print(f\"Proporção de ativos (Churn=0): {prop_ativos:.4f}\")\n",
        "\n"
      ],
      "metadata": {
        "colab": {
          "base_uri": "https://localhost:8080/"
        },
        "id": "JKPy0ntCAKsX",
        "outputId": "0a86da32-fc09-4694-93f1-a681567ef52d"
      },
      "execution_count": 42,
      "outputs": [
        {
          "output_type": "stream",
          "name": "stdout",
          "text": [
            "Contagem de clientes por classe:\n",
            "Churn\n",
            "0    5174\n",
            "1    1869\n",
            "Name: count, dtype: int64\n",
            "\n",
            "Proporção de clientes por classe:\n",
            "Churn\n",
            "0    0.73463\n",
            "1    0.26537\n",
            "Name: count, dtype: float64\n",
            "\n",
            "Proporção de evadidos (Churn=1): 0.2654\n",
            "Proporção de ativos (Churn=0): 0.7346\n"
          ]
        }
      ]
    },
    {
      "cell_type": "markdown",
      "source": [
        "## Balanceamento de Classes"
      ],
      "metadata": {
        "id": "eGYTiYfcApIJ"
      }
    },
    {
      "cell_type": "code",
      "source": [
        "from imblearn.over_sampling import SMOTE\n",
        "\n",
        "# Separar features (todas as colunas menos 'Churn') e target ('Churn')\n",
        "X = df.drop('Churn', axis=1)\n",
        "y = df['Churn']\n",
        "\n",
        "smote = SMOTE(random_state=42)\n",
        "X_res, y_res = smote.fit_resample(X, y)\n",
        "\n",
        "print(\"Após SMOTE:\", y_res.value_counts())\n"
      ],
      "metadata": {
        "colab": {
          "base_uri": "https://localhost:8080/"
        },
        "id": "n_3vYiR1AmGE",
        "outputId": "1c145ce5-9637-4d56-b8ea-098ad7ba3c5f"
      },
      "execution_count": 43,
      "outputs": [
        {
          "output_type": "stream",
          "name": "stdout",
          "text": [
            "Após SMOTE: Churn\n",
            "0    5174\n",
            "1    5174\n",
            "Name: count, dtype: int64\n"
          ]
        }
      ]
    },
    {
      "cell_type": "markdown",
      "source": [
        "# 🎯 Correlação e Seleção de Variáveis"
      ],
      "metadata": {
        "id": "uSRyiVhxCS8U"
      }
    },
    {
      "cell_type": "markdown",
      "source": [
        "## Análise de Correlação"
      ],
      "metadata": {
        "id": "IgXLi2dkC-4K"
      }
    },
    {
      "cell_type": "code",
      "source": [
        "import matplotlib.pyplot as plt\n",
        "import seaborn as sns\n",
        "\n",
        "# Filtrar apenas as colunas numéricas\n",
        "df_num = df.select_dtypes(include=['int64', 'float64'])\n",
        "\n",
        "# Calcular a matriz de correlação\n",
        "corr = df_num.corr()\n",
        "\n",
        "# Visualizar a matriz de correlação com heatmap\n",
        "plt.figure(figsize=(12,10))\n",
        "sns.heatmap(corr, annot=True, fmt=\".2f\", cmap='coolwarm', center=0)\n",
        "plt.title('Matriz de Correlação das Variáveis Numéricas')\n",
        "plt.show()\n",
        "\n",
        "# Mostrar correlação das variáveis com a variável alvo 'Churn', ordenado do maior para o menor\n",
        "corr_churn = corr['Churn'].drop('Churn').sort_values(ascending=False)\n",
        "print(\"Correlação das variáveis numéricas com Churn:\")\n",
        "print(corr_churn)\n"
      ],
      "metadata": {
        "colab": {
          "base_uri": "https://localhost:8080/",
          "height": 940
        },
        "id": "qLT7O24bC9Xi",
        "outputId": "fdc88b56-f2a4-44a6-9f51-2b1984a5695c"
      },
      "execution_count": 44,
      "outputs": [
        {
          "output_type": "display_data",
          "data": {
            "text/plain": [
              "<Figure size 1200x1000 with 2 Axes>"
            ],
            "image/png": "[encoded data removed]"
          },
          "metadata": {}
        },
        {
          "output_type": "stream",
          "name": "stdout",
          "text": [
            "Correlação das variáveis numéricas com Churn:\n",
            "Charges.Monthly    0.193356\n",
            "SeniorCitizen      0.150889\n",
            "tenure            -0.352229\n",
            "Name: Churn, dtype: float64\n"
          ]
        }
      ]
    },
    {
      "cell_type": "markdown",
      "source": [
        "## Análises Direcionadas"
      ],
      "metadata": {
        "id": "bfwTaYUhEoh3"
      }
    },
    {
      "cell_type": "code",
      "source": [
        "import matplotlib.pyplot as plt\n",
        "import seaborn as sns\n",
        "\n",
        "fig, axs = plt.subplots(1, 2, figsize=(14,6))\n",
        "\n",
        "# Boxplot do tempo de contrato por evasão\n",
        "sns.boxplot(x='Churn', y='tenure', data=df, ax=axs[0])\n",
        "axs[0].set_title('Distribuição do Tempo de Contrato (tenure) por Evasão')\n",
        "axs[0].set_xlabel('Churn')\n",
        "axs[0].set_ylabel('Tempo de contrato (meses)')\n",
        "\n",
        "# Boxplot do Charges.Monthly por evasão\n",
        "sns.boxplot(x='Churn', y='Charges.Monthly', data=df, ax=axs[1])\n",
        "axs[1].set_title('Distribuição do Charges.Monthly por Evasão')\n",
        "axs[1].set_xlabel('Churn')\n",
        "axs[1].set_ylabel('Charges.Monthly')\n",
        "\n",
        "plt.tight_layout()\n",
        "plt.show()\n"
      ],
      "metadata": {
        "colab": {
          "base_uri": "https://localhost:8080/",
          "height": 607
        },
        "id": "-t9G9GLeEqOP",
        "outputId": "0d3032c6-24b2-45f7-8e07-a83522463e80"
      },
      "execution_count": 45,
      "outputs": [
        {
          "output_type": "display_data",
          "data": {
            "text/plain": [
              "<Figure size 1400x600 with 2 Axes>"
            ],
            "image/png": "[encoded data removed]"
          },
          "metadata": {}
        }
      ]
    },
    {
      "cell_type": "markdown",
      "source": [
        "Possíveis tendencias:\n",
        "\n",
        "\n",
        "*   Clientes que evadiram (Churn = 1) geralmente apresentam tempo de contrato menor — ou seja, eles ficaram menos tempo com a empresa antes de sair. Essa tendência confirma a correlação negativa moderada que você viu (-0.35) — quanto maior o tempo, menor a evasão.\n",
        "\n",
        "*   Normalmente, clientes que evadiram têm uma distribuição mais ampla e mediana de valores mensais um pouco maior. Pode indicar que clientes com cobranças mensais mais altas têm maior propensão a cancelar, possivelmente por custo-benefício ou insatisfação."
      ],
      "metadata": {
        "id": "n3m2QzFNFCQh"
      }
    },
    {
      "cell_type": "markdown",
      "source": [
        "# 🤖 Modelagem Preditiva"
      ],
      "metadata": {
        "id": "8RmjNzy5FdVJ"
      }
    },
    {
      "cell_type": "markdown",
      "source": [
        "## Separação de Dados"
      ],
      "metadata": {
        "id": "SN7fXtsAFi3R"
      }
    },
    {
      "cell_type": "code",
      "source": [
        "from sklearn.model_selection import train_test_split\n",
        "\n",
        "#X_res, y_res do SMOTE\n",
        "X_train, X_test, y_train, y_test = train_test_split(\n",
        "    X_res, y_res, test_size=0.2, random_state=42, stratify=y_res\n",
        ")\n",
        "\n",
        "print(f\"Tamanho treino: {X_train.shape[0]} amostras\")\n",
        "print(f\"Tamanho teste: {X_test.shape[0]} amostras\")\n",
        "\n",
        "# Balanceamento no treino\n",
        "print(\"Distribuição no treino:\")\n",
        "print(y_train.value_counts())\n",
        "\n",
        "# Balanceamento no teste\n",
        "print(\"Distribuição no teste:\")\n",
        "print(y_test.value_counts())\n"
      ],
      "metadata": {
        "colab": {
          "base_uri": "https://localhost:8080/"
        },
        "id": "PNWqgTZSFHhf",
        "outputId": "e3757d8c-ab4c-40b9-e458-703bc32e30ed"
      },
      "execution_count": 47,
      "outputs": [
        {
          "output_type": "stream",
          "name": "stdout",
          "text": [
            "Tamanho treino: 8278 amostras\n",
            "Tamanho teste: 2070 amostras\n",
            "Distribuição no treino:\n",
            "Churn\n",
            "1    4139\n",
            "0    4139\n",
            "Name: count, dtype: int64\n",
            "Distribuição no teste:\n",
            "Churn\n",
            "0    1035\n",
            "1    1035\n",
            "Name: count, dtype: int64\n"
          ]
        }
      ]
    },
    {
      "cell_type": "markdown",
      "source": [
        "## Criação de Modelos"
      ],
      "metadata": {
        "id": "K1b_R0cLF4nu"
      }
    },
    {
      "cell_type": "markdown",
      "source": [
        "### Modelo 1 - Regressão Logística (exige normalização)\n",
        "\n",
        "Motivos da escolha:\n",
        "*   Modelo linear e sensível à escala das variáveis.\n",
        "\n",
        "*   Normalizar os dados evita que variáveis com escalas maiores dominem o treinamento.\n",
        "\n",
        "*   Permite interpretar coeficientes e entender impacto das variáveis."
      ],
      "metadata": {
        "id": "GaWTJtIZGKAv"
      }
    },
    {
      "cell_type": "code",
      "source": [
        "from sklearn.linear_model import LogisticRegression\n",
        "from sklearn.preprocessing import StandardScaler\n",
        "from sklearn.pipeline import Pipeline\n",
        "\n",
        "# Pipeline que padroniza e depois treina o modelo\n",
        "pipe_logreg = Pipeline([\n",
        "    ('scaler', StandardScaler()),\n",
        "    ('logreg', LogisticRegression(max_iter=1000, random_state=42))\n",
        "])\n",
        "\n",
        "pipe_logreg.fit(X_train, y_train)\n",
        "y_pred_logreg = pipe_logreg.predict(X_test)\n"
      ],
      "metadata": {
        "id": "QUqRYKPmF5th"
      },
      "execution_count": 48,
      "outputs": []
    },
    {
      "cell_type": "markdown",
      "source": [
        "### Modelo 2 - Random Forest (não exige normalização)\n",
        "\n",
        "Motivos da escolha:\n",
        "*   Modelo baseado em árvores, não sensível à escala dos dados.\n",
        "\n",
        "*   Lida bem com variáveis numéricas e categóricas (dummies).\n",
        "\n",
        "*   Robusto a outliers e interações não lineares.\n"
      ],
      "metadata": {
        "id": "Wktt9narGjWn"
      }
    },
    {
      "cell_type": "code",
      "source": [
        "from sklearn.ensemble import RandomForestClassifier\n",
        "\n",
        "rf = RandomForestClassifier(random_state=42)\n",
        "rf.fit(X_train, y_train)\n",
        "y_pred_rf = rf.predict(X_test)\n"
      ],
      "metadata": {
        "id": "w0JjTxIDG6BG"
      },
      "execution_count": 49,
      "outputs": []
    },
    {
      "cell_type": "markdown",
      "source": [
        "## Avaliação dos Modelos"
      ],
      "metadata": {
        "id": "IA6BiSr6HAdk"
      }
    },
    {
      "cell_type": "code",
      "source": [
        "from sklearn.metrics import accuracy_score, precision_score, recall_score, f1_score, confusion_matrix, classification_report\n",
        "import matplotlib.pyplot as plt\n",
        "import seaborn as sns\n",
        "\n",
        "def avaliar_modelo(modelo, X_treino, y_treino, X_teste, y_teste, nome_modelo):\n",
        "    # Previsões treino e teste\n",
        "    y_pred_train = modelo.predict(X_treino)\n",
        "    y_pred_test = modelo.predict(X_teste)\n",
        "\n",
        "    # Métricas treino\n",
        "    acc_train = accuracy_score(y_treino, y_pred_train)\n",
        "    prec_train = precision_score(y_treino, y_pred_train)\n",
        "    rec_train = recall_score(y_treino, y_pred_train)\n",
        "    f1_train = f1_score(y_treino, y_pred_train)\n",
        "\n",
        "    # Métricas teste\n",
        "    acc_test = accuracy_score(y_teste, y_pred_test)\n",
        "    prec_test = precision_score(y_teste, y_pred_test)\n",
        "    rec_test = recall_score(y_teste, y_pred_test)\n",
        "    f1_test = f1_score(y_teste, y_pred_test)\n",
        "\n",
        "    print(f\"--- Avaliação do Modelo: {nome_modelo} ---\")\n",
        "    print(\"Treino:\")\n",
        "    print(f\"Acurácia: {acc_train:.4f} | Precisão: {prec_train:.4f} | Recall: {rec_train:.4f} | F1-score: {f1_train:.4f}\")\n",
        "    print(\"Teste:\")\n",
        "    print(f\"Acurácia: {acc_test:.4f} | Precisão: {prec_test:.4f} | Recall: {rec_test:.4f} | F1-score: {f1_test:.4f}\\n\")\n",
        "\n",
        "    # Matriz de confusão no teste\n",
        "    cm = confusion_matrix(y_teste, y_pred_test)\n",
        "    plt.figure(figsize=(5,4))\n",
        "    sns.heatmap(cm, annot=True, fmt='d', cmap='Blues')\n",
        "    plt.title(f'Matriz de Confusão - {nome_modelo} (Teste)')\n",
        "    plt.xlabel('Previsto')\n",
        "    plt.ylabel('Real')\n",
        "    plt.show()\n",
        "\n",
        "    return {\n",
        "        'nome': nome_modelo,\n",
        "        'acc_train': acc_train, 'acc_test': acc_test,\n",
        "        'prec_train': prec_train, 'prec_test': prec_test,\n",
        "        'rec_train': rec_train, 'rec_test': rec_test,\n",
        "        'f1_train': f1_train, 'f1_test': f1_test\n",
        "    }\n",
        "\n",
        "\n",
        "# Avaliar Regressão Logística (pipeline com scaler)\n",
        "result_logreg = avaliar_modelo(pipe_logreg, X_train, y_train, X_test, y_test, \"Regressão Logística\")\n",
        "\n",
        "# Avaliar Random Forest\n",
        "result_rf = avaliar_modelo(rf, X_train, y_train, X_test, y_test, \"Random Forest\")\n"
      ],
      "metadata": {
        "colab": {
          "base_uri": "https://localhost:8080/",
          "height": 1000
        },
        "id": "Tt7HePk-HDWp",
        "outputId": "9a6c8624-0ee7-4ace-e80e-42f7c9663615"
      },
      "execution_count": 50,
      "outputs": [
        {
          "output_type": "stream",
          "name": "stdout",
          "text": [
            "--- Avaliação do Modelo: Regressão Logística ---\n",
            "Treino:\n",
            "Acurácia: 0.8161 | Precisão: 0.8158 | Recall: 0.8166 | F1-score: 0.8162\n",
            "Teste:\n",
            "Acurácia: 0.8140 | Precisão: 0.8119 | Recall: 0.8174 | F1-score: 0.8146\n",
            "\n"
          ]
        },
        {
          "output_type": "display_data",
          "data": {
            "text/plain": [
              "<Figure size 500x400 with 2 Axes>"
            ],
            "image/png": "[encoded data removed]"
          },
          "metadata": {}
        },
        {
          "output_type": "stream",
          "name": "stdout",
          "text": [
            "--- Avaliação do Modelo: Random Forest ---\n",
            "Treino:\n",
            "Acurácia: 0.9986 | Precisão: 0.9976 | Recall: 0.9995 | F1-score: 0.9986\n",
            "Teste:\n",
            "Acurácia: 0.8498 | Precisão: 0.8371 | Recall: 0.8686 | F1-score: 0.8525\n",
            "\n"
          ]
        },
        {
          "output_type": "display_data",
          "data": {
            "text/plain": [
              "<Figure size 500x400 with 2 Axes>"
            ],
            "image/png": "[encoded data removed]"
          },
          "metadata": {}
        }
      ]
    },
    {
      "cell_type": "markdown",
      "source": [
        "### Análise de comparação entre os modelos:\n",
        "\n",
        "\n",
        "**Regressão Logistica:**\n",
        "O desempenho é bastante estável entre treino e teste, com métricas muito próximas. Isso indica que o modelo está generalizando bem, sem sinais evidentes de overfitting ou underfitting.\n",
        "Os valores na casa de ~81% para todas as métricas mostram uma performance consistente e razoável para o problema.\n",
        "\n",
        "**Random Forest:**\n",
        "O modelo apresenta acurácia e métricas quase perfeitas no treino, porém cai para ~85% no teste. Essa diferença muito grande entre treino e teste indica overfitting: o modelo aprendeu muito bem o conjunto de treino, mas não generalizou tão bem para dados novos.\n",
        "Ainda assim, a performance no teste é melhor que a da Regressão Logística, especialmente em recall (86.86% vs 81.74%), o que significa que o Random Forest está conseguindo identificar melhor os clientes que vão evadir."
      ],
      "metadata": {
        "id": "bNrXpEU9H4WP"
      }
    },
    {
      "cell_type": "markdown",
      "source": [
        "# 📋  Interpretação e Conclusões"
      ],
      "metadata": {
        "id": "I0yJwdYyI2Dz"
      }
    },
    {
      "cell_type": "markdown",
      "source": [
        "## Análise de Importância das Variáveis"
      ],
      "metadata": {
        "id": "4_xR0qInI6EA"
      }
    },
    {
      "cell_type": "markdown",
      "source": [
        "### Modelo 1 - Regressão Logística"
      ],
      "metadata": {
        "id": "04IOAIjjJHf_"
      }
    },
    {
      "cell_type": "code",
      "source": [
        "import numpy as np\n",
        "import pandas as pd\n",
        "\n",
        "# Extrair os coeficientes do modelo (após o scaler)\n",
        "coef = pipe_logreg.named_steps['logreg'].coef_[0]\n",
        "\n",
        "# Obter os nomes das features (colunas)\n",
        "features = X_train.columns\n",
        "\n",
        "# Criar DataFrame com coeficientes e features\n",
        "df_coef = pd.DataFrame({\n",
        "    'Feature': features,\n",
        "    'Coeficiente': coef\n",
        "})\n",
        "\n",
        "# Ordenar pelo valor absoluto do coeficiente (impacto)\n",
        "df_coef['AbsCoef'] = df_coef['Coeficiente'].abs()\n",
        "df_coef = df_coef.sort_values(by='AbsCoef', ascending=False).drop(columns='AbsCoef')\n",
        "\n",
        "print(df_coef)\n"
      ],
      "metadata": {
        "colab": {
          "base_uri": "https://localhost:8080/"
        },
        "id": "TwXQan8zIBWd",
        "outputId": "3d291799-4bb5-4ec2-f99c-19358240f365"
      },
      "execution_count": 51,
      "outputs": [
        {
          "output_type": "stream",
          "name": "stdout",
          "text": [
            "                                  Feature  Coeficiente\n",
            "2                         Charges.Monthly    -8.964623\n",
            "9             InternetService_Fiber optic     4.382910\n",
            "6                        PhoneService_Yes     2.598206\n",
            "22                    StreamingMovies_Yes     1.634874\n",
            "20                        StreamingTV_Yes     1.625874\n",
            "7          MultipleLines_No phone service     1.024887\n",
            "8                       MultipleLines_Yes     1.002404\n",
            "1                                  tenure    -0.989651\n",
            "16                   DeviceProtection_Yes     0.767151\n",
            "14                       OnlineBackup_Yes     0.722504\n",
            "27         PaymentMethod_Electronic check     0.679652\n",
            "12                     OnlineSecurity_Yes     0.562879\n",
            "18                        TechSupport_Yes     0.539490\n",
            "19        StreamingTV_No internet service    -0.438331\n",
            "17        TechSupport_No internet service    -0.438331\n",
            "21    StreamingMovies_No internet service    -0.438331\n",
            "13       OnlineBackup_No internet service    -0.438331\n",
            "10                     InternetService_No    -0.438331\n",
            "11     OnlineSecurity_No internet service    -0.438331\n",
            "15   DeviceProtection_No internet service    -0.438331\n",
            "28             PaymentMethod_Mailed check     0.427661\n",
            "26  PaymentMethod_Credit card (automatic)     0.320863\n",
            "24                      Contract_Two year    -0.301241\n",
            "25                   PaperlessBilling_Yes     0.285060\n",
            "23                      Contract_One year    -0.146275\n",
            "3                             gender_Male     0.126527\n",
            "4                             Partner_Yes     0.105142\n",
            "5                          Dependents_Yes    -0.093380\n",
            "0                           SeniorCitizen    -0.044060\n"
          ]
        }
      ]
    },
    {
      "cell_type": "markdown",
      "source": [
        "***Variáveis que reduzem a probabilidade de evasão:***\n",
        "\n",
        "\n",
        "*   Charges.Monthly (-8.96): Quanto maior o valor mensal pago, menor a chance de evasãop. Pode ser que clientes que pagam mais tenham planos mais completos e fiquem mais fidelizados.\n",
        "\n",
        "*   tenure (-0.99): Quanto maior o tempo de contrato, menor a chance de evasão. Faz sentido, clientes fiéis e antigos tendem a permanecer.\n",
        "\n"
      ],
      "metadata": {
        "id": "lhigW_9FJ0a2"
      }
    },
    {
      "cell_type": "markdown",
      "source": [
        "***Variáveis que aumentam a probabilidade de evasão:***\n",
        "\n",
        "\n",
        "*   InternetService_Fiber optic (4.38): Clientes com internet fibra óptica têm maior probabilidade de evasão, pode indicar insatisfação ou competitividade nesse segmento.\n",
        "\n",
        "*   PhoneService_Yes (2.60): Clientes que usam serviço telefônico apresentam maior evasão."
      ],
      "metadata": {
        "id": "xGCa0dJTKWWC"
      }
    },
    {
      "cell_type": "markdown",
      "source": [
        "### Modelo 2 - Random Forest"
      ],
      "metadata": {
        "id": "p8Sds4eQK4y1"
      }
    },
    {
      "cell_type": "code",
      "source": [
        "import pandas as pd\n",
        "import matplotlib.pyplot as plt\n",
        "import seaborn as sns\n",
        "\n",
        "# Extrair importâncias\n",
        "importancias = rf.feature_importances_\n",
        "\n",
        "# Criar DataFrame com nomes e importâncias\n",
        "df_importancia = pd.DataFrame({\n",
        "    'Feature': X_train.columns,\n",
        "    'Importancia': importancias\n",
        "})\n",
        "\n",
        "# Ordenar do mais importante para o menos importante\n",
        "df_importancia = df_importancia.sort_values(by='Importancia', ascending=False)\n",
        "\n",
        "# Mostrar as top 5 variáveis\n",
        "print(\"Top 5 variáveis mais importantes no Random Forest:\")\n",
        "print(df_importancia.head(5))\n",
        "\n",
        "# Plotar gráfico de barras das top 5\n",
        "plt.figure(figsize=(10,6))\n",
        "sns.barplot(x='Importancia', y='Feature', data=df_importancia.head(5), palette='viridis')\n",
        "plt.title('Top 5 Importância das Variáveis - Random Forest')\n",
        "plt.xlabel('Importância')\n",
        "plt.ylabel('Variável')\n",
        "plt.tight_layout()\n",
        "plt.show()\n"
      ],
      "metadata": {
        "colab": {
          "base_uri": "https://localhost:8080/",
          "height": 815
        },
        "id": "XhN50_JTLH7U",
        "outputId": "8ddbd15b-4531-41cf-ade7-ca6600f70952"
      },
      "execution_count": 54,
      "outputs": [
        {
          "output_type": "stream",
          "name": "stdout",
          "text": [
            "Top 5 variáveis mais importantes no Random Forest:\n",
            "                           Feature  Importancia\n",
            "1                           tenure     0.225269\n",
            "2                  Charges.Monthly     0.189980\n",
            "27  PaymentMethod_Electronic check     0.092724\n",
            "24               Contract_Two year     0.056282\n",
            "9      InternetService_Fiber optic     0.043689\n"
          ]
        },
        {
          "output_type": "stream",
          "name": "stderr",
          "text": [
            "/tmp/ipython-input-3153797319.py:23: FutureWarning: \n",
            "\n",
            "Passing `palette` without assigning `hue` is deprecated and will be removed in v0.14.0. Assign the `y` variable to `hue` and set `legend=False` for the same effect.\n",
            "\n",
            "  sns.barplot(x='Importancia', y='Feature', data=df_importancia.head(5), palette='viridis')\n"
          ]
        },
        {
          "output_type": "display_data",
          "data": {
            "text/plain": [
              "<Figure size 1000x600 with 1 Axes>"
            ],
            "image/png": "[encoded data removed]"
          },
          "metadata": {}
        }
      ]
    },
    {
      "cell_type": "markdown",
      "source": [
        "***Interpretação das Variáveis Relevantes***\n",
        "\n",
        "\n",
        "\n",
        "*   **tenure** (22.53%): É a variável mais importante, responsável por quase 1/4 da decisão do modelo. Clientes com maior tempo de contrato tendem a permanecer, reforçando o que vimos na Regressão Logística.\n",
        "\n",
        "*   **Charges.Monthly** (18.99%): Também muito relevante, indica que o valor pago mensalmente impacta bastante a evasão. Pode estar relacionado à percepção de custo-benefício do cliente.\n",
        "\n",
        "*    **PaymentMethod_Electronic check** (9.27%): Forma de pagamento por cheque eletrônico tem influência significativa, possivelmente indicando clientes com maior propensão a cancelar.\n",
        "\n",
        "*   **Contract_Two year** (5.63%): Clientes com contrato de dois anos têm comportamento diferenciado, tendendo a menor evasão por fidelidade.\n",
        "\n",
        "*   **InternetService_Fiber optic** (4.37%): Clientes com internet fibra óptica têm uma contribuição importante para as decisões, podendo estar associados a maior evasão.\n",
        "\n"
      ],
      "metadata": {
        "id": "GnsDb61jLYTs"
      }
    },
    {
      "cell_type": "markdown",
      "source": [
        "## Conclusão"
      ],
      "metadata": {
        "id": "3hB5Php8MXeB"
      }
    },
    {
      "cell_type": "markdown",
      "source": [
        "# Relatório de Análise de Evasão de Clientes — Telecom X\n",
        "\n",
        "## 1. Objetivo\n",
        "\n",
        "Analisar e prever a evasão de clientes (churn) utilizando técnicas de Machine Learning, identificando os principais fatores que influenciam o cancelamento dos serviços e propondo estratégias de retenção baseadas nesses insights.\n",
        "\n",
        "---\n",
        "\n",
        "## 2. Dados e Pré-processamento\n",
        "\n",
        "- Base original tratada e balanceada com SMOTE para corrigir desbalanceamento entre classes (clientes que evadiram vs. que permaneceram).  \n",
        "- Variáveis numéricas e categóricas transformadas (one-hot encoding).  \n",
        "- Divisão treino/teste: 80%/20%, com estratificação para manter a proporção das classes.\n",
        "\n",
        "---\n",
        "\n",
        "## 3. Modelos Utilizados\n",
        "\n",
        "### 3.1 Regressão Logística (com normalização)\n",
        "\n",
        "- Modelo linear, sensível à escala das variáveis, interpretável.  \n",
        "- Métricas no teste: Acurácia ~81.4%, Recall ~81.7%, F1-score ~81.5%.  \n",
        "- Modelo estável, sem sinais de overfitting.\n",
        "\n",
        "### 3.2 Random Forest (sem normalização)\n",
        "\n",
        "- Modelo baseado em árvores, captura relações não lineares e interações.  \n",
        "- Métricas no teste: Acurácia ~85.0%, Recall ~86.9%, F1-score ~85.3%.  \n",
        "- Apresenta overfitting (acurácia de quase 100% no treino), mas desempenho superior no teste.\n",
        "\n",
        "---\n",
        "\n",
        "## 4. Principais Fatores que Influenciam a Evasão\n",
        "\n",
        "### 4.1 Insights da Regressão Logística (coeficientes)\n",
        "\n",
        "- **Tempo de contrato (tenure):** Clientes com maior tempo tendem a permanecer (coeficiente negativo forte).  \n",
        "- **Charges.Monthly:** Clientes com valores mensais maiores têm menor chance de churn (coeficiente negativo significativo).  \n",
        "- **InternetService_Fiber optic:** Aumenta a chance de churn, indicando possível insatisfação nesse serviço.  \n",
        "- **Serviços adicionais (Streaming, DeviceProtection, OnlineBackup, etc.):** Associados a maior evasão, possivelmente devido a custos extras.  \n",
        "- **Formas de pagamento (Electronic check):** Ligadas a maior churn, podem indicar menor fidelidade ou perfil de risco.\n",
        "\n",
        "### 4.2 Insights do Random Forest (importância das variáveis)\n",
        "\n",
        "- **Tenure (22.5%)** e **Charges.Monthly (19%)** são as variáveis mais importantes, confirmando sua relevância.  \n",
        "- **Método de pagamento (Electronic check)**, **tipo de contrato (Two year, One year)** e **serviços contratados (Fiber optic, Multiple lines)** também impactam significativamente.  \n",
        "- Variáveis demográficas como gênero e estado civil têm menor influência.\n",
        "\n",
        "---\n",
        "\n",
        "## 5. Análise e Recomendações\n",
        "\n",
        "### 5.1 Estratégias baseadas no tempo de contrato\n",
        "\n",
        "- Incentivar planos de fidelização mais longos (ex: descontos para contratos de 2 anos) para aumentar o tempo médio dos clientes.  \n",
        "- Oferecer benefícios e programas de engajamento para clientes novos, que apresentam maior risco de evasão.\n",
        "\n",
        "### 5.2 Gestão de preços e serviços adicionais\n",
        "\n",
        "- Revisar a estrutura de preços para evitar que cobranças mensais elevadas gerem insatisfação, mesmo que dados apontem menor churn para valores altos (pode haver clientes de alta renda fiéis, mas atenção a segmentos sensíveis).  \n",
        "- Avaliar o custo-benefício dos serviços adicionais (streaming, proteção, backup) e sua comunicação clara para o cliente, evitando cancelamentos motivados por custo.\n",
        "\n",
        "### 5.3 Foco em serviços de internet e pagamento\n",
        "\n",
        "- Monitorar a satisfação dos clientes com internet fibra óptica, pois essa tecnologia está associada a maior churn.  \n",
        "- Melhorar políticas e facilidades para clientes que utilizam pagamento por cheque eletrônico, buscando alternativas que aumentem fidelidade.\n",
        "\n",
        "### 5.4 Personalização e segmentação\n",
        "\n",
        "- Utilizar os dados demográficos e de serviços para criar ofertas segmentadas e personalizadas, focando em perfis com maior risco de churn.\n",
        "\n",
        "---\n",
        "\n",
        "## 6. Considerações Finais\n",
        "\n",
        "- O modelo Random Forest apresenta melhor desempenho preditivo, porém com risco de overfitting. Ajustes de hiperparâmetros são recomendados para melhorar a generalização.  \n",
        "- A regressão logística oferece boa interpretabilidade, útil para entendimento e comunicação dos fatores de risco.  \n",
        "- A combinação dos dois modelos pode ser usada para equilibrar performance e explicabilidade.\n",
        "\n",
        "---\n",
        "\n"
      ],
      "metadata": {
        "id": "YvROnTv3Mdud"
      }
    }
  ]
}